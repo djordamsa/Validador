{
 "cells": [
  {
   "cell_type": "code",
   "execution_count": 1,
   "metadata": {},
   "outputs": [],
   "source": [
    "import pandas\n",
    "import csv"
   ]
  },
  {
   "attachments": {},
   "cell_type": "markdown",
   "metadata": {},
   "source": [
    "Aca vendrian los inputs.\n",
    "\n",
    "\n",
    "\n",
    "\n",
    "\n",
    "listas.xlsx\n",
    "\n",
    "COD_ELECCION - int 3 numeros\n",
    "CODLISTA - int 4numeros\n",
    "DESCRIPCION - STRING\n",
    "DESCRIPCION_CORTA - STRING\n",
    "NUMLISTA - STRING\n",
    "NRO_ORDEN - INT 4NUMEROS\n",
    "\n",
    "\n",
    "mesas.xlsx\n",
    "\n",
    "codeleccion - int 3 numeros\n",
    "deseleccion- string mayusc\n",
    "coddepartamento - int 2 numeros\n",
    "desdepartamento - string \n",
    "coddistrito - int \n",
    "desdistrto - string\n",
    "codzona - int\n",
    "deszona - string\n",
    "codlocal - int\n",
    "deslocal - string Mayusc\n",
    "mesa - int\n",
    "tipo - string mayusc\n",
    "id_credencial - int (8num?) \n",
    "\n",
    "mesas_candidaturas_seguridad_trep.xlsx\n",
    "\n",
    "codeleccio - int\n",
    "deseleccio - string mayusc\n",
    "cod_candid - int\n",
    "descandida - string\n",
    "coddeparta - int\n",
    "desdeparta - string\n",
    "coddistrit - int\n",
    "desdistrit -  string\n",
    "codzona - int\n",
    "deszona - string\n",
    "codlocal - int\n",
    "deslocal -string\n",
    "mesa - int\n",
    "codseguridad - int\n",
    "ctx - int\n",
    "\n",
    "\n",
    "\n",
    "\n",
    "\n",
    "\n",
    "\n",
    "\n",
    "\n"
   ]
  },
  {
   "attachments": {},
   "cell_type": "markdown",
   "metadata": {},
   "source": [
    "Mesas validaciones\n"
   ]
  },
  {
   "cell_type": "code",
   "execution_count": 2,
   "metadata": {},
   "outputs": [],
   "source": [
    "\n",
    "df_mesas = pandas.read_excel('/home/djorda/Escritorio/validadores/Validador/Datos_v7/mesas.xlsx', engine='openpyxl')\n",
    "mesas_tags_list=['codeleccion',\n",
    " 'deseleccion',\n",
    " 'coddepartamento',\n",
    " 'desdepartamento',\n",
    " 'coddistrito',\n",
    " 'desdistrito',\n",
    " 'codzona',\n",
    " 'deszona',\n",
    " 'codlocal',\n",
    " 'deslocal',\n",
    " 'mesa',\n",
    " 'tipo',\n",
    " 'id_credencial']\n",
    "\n",
    "\n",
    "mesas_type={'codeleccion': int,\n",
    " 'deseleccion': str,\n",
    " 'coddepartamento': int,\n",
    " 'desdepartamento': str,\n",
    " 'coddistrito': int,\n",
    " 'desdistrito':str,\n",
    " 'codzona':int,\n",
    " 'deszona': str,\n",
    " 'codlocal': int,\n",
    " 'deslocal': str,\n",
    " 'mesa': int,\n",
    " 'tipo': str,\n",
    " 'id_credencial' : int\n",
    "    \n",
    "}\n",
    "mesas_colums=df_mesas.columns.to_list()\n",
    "\n"
   ]
  },
  {
   "cell_type": "code",
   "execution_count": 3,
   "metadata": {},
   "outputs": [],
   "source": [
    "for el in mesas_colums:\n",
    "    if el not in mesas_tags_list:\n",
    "        print(f'el titulo \"{el}\"  de la columna no coincide con los titulos de la lista precisada')\n",
    "        print(f'La lista debe contener los siguientes titulos de columna {mesas_tags_list}')\n",
    "\n",
    "    "
   ]
  },
  {
   "attachments": {},
   "cell_type": "markdown",
   "metadata": {},
   "source": [
    "numero de columnas"
   ]
  },
  {
   "cell_type": "code",
   "execution_count": 4,
   "metadata": {},
   "outputs": [],
   "source": [
    "if len(mesas_colums) != len(mesas_tags_list):\n",
    "    print(f'El numero de columnas del archivos mesas.xlsx es de {len(mesas_colums)}, este deberia tener {len(mesas_tags_list)}. Por favor revise el archivo')\n"
   ]
  },
  {
   "attachments": {},
   "cell_type": "markdown",
   "metadata": {},
   "source": [
    "data types\n"
   ]
  },
  {
   "cell_type": "code",
   "execution_count": 5,
   "metadata": {},
   "outputs": [],
   "source": [
    "for el in mesas_tags_list:\n",
    "    if len(set([type(row) for row in df_mesas[el].to_list()])) == 1:\n",
    "        if mesas_type[el] in set([type(row) for row in df_mesas[el].to_list()]):\n",
    "            pass\n",
    "        else:\n",
    "            print(f'error en {el} sus datos deberian ser {mesas_type[el]}')\n",
    "    else:\n",
    "        print(f'error en {el}, hay mas de un tipo de datos en la columna')\n",
    "            "
   ]
  },
  {
   "attachments": {},
   "cell_type": "markdown",
   "metadata": {},
   "source": [
    "candidatos.xlsx\n"
   ]
  },
  {
   "cell_type": "markdown",
   "metadata": {},
   "source": []
  },
  {
   "attachments": {},
   "cell_type": "markdown",
   "metadata": {},
   "source": [
    "candidatos.xlsx\n",
    "\n",
    "IDCANDIDATO - 6numeros,\n",
    "CODCANDIDATURA - 2 numeros,\n",
    "CODELECCION - 3 numeros,\n",
    "CODDEPARTAMENTO - 2 numeros,\n",
    "CODDISTRITO - numeros y blank,\n",
    "CODZONA - numeros y blank,\n",
    "CODLISTA- 4 NUMEROS ,\n",
    "ORDEN - 2 NUMEROS,\n",
    "NOMBRE - STRING, capital,"
   ]
  },
  {
   "cell_type": "code",
   "execution_count": 6,
   "metadata": {},
   "outputs": [],
   "source": [
    "df_candidatos = pandas.read_excel('/home/djorda/Escritorio/validadores/Validador/Datos_v7/candidatos.xlsx', engine='openpyxl')\n",
    "\n",
    "candidatos_tag_list=['IDCANDIDATO',\n",
    " 'CODCANDIDATURA',\n",
    " 'CODELECCION',\n",
    " 'CODDEPARTAMENTO',\n",
    " 'CODDISTRITO',\n",
    " 'CODZONA',\n",
    " 'CODLISTA',\n",
    " 'ORDEN',\n",
    " 'NOMBRE']\n",
    "\n",
    "candidatos_types={\n",
    "    'IDCANDIDATO': int,\n",
    " 'CODCANDIDATURA': int,\n",
    " 'CODELECCION': int,\n",
    " 'CODDEPARTAMENTO':int,\n",
    " 'CODDISTRITO': int,\n",
    " 'CODZONA': int,\n",
    " 'CODLISTA': int,\n",
    " 'ORDEN': int,\n",
    " 'NOMBRE': str,\n",
    "}\n",
    "\n"
   ]
  },
  {
   "cell_type": "code",
   "execution_count": 7,
   "metadata": {},
   "outputs": [],
   "source": [
    "candidatos_columns=df_candidatos.columns\n",
    "for el in candidatos_columns:\n",
    "    if el not in candidatos_tag_list:\n",
    "        print(f'el titulo \"{el}\"  de la columna no coincide con los titulos de la lista precisada')\n",
    "        print(f'La lista debe contener los siguientes titulos de columna {candidatos_tag_list}')"
   ]
  },
  {
   "cell_type": "code",
   "execution_count": 8,
   "metadata": {},
   "outputs": [],
   "source": [
    "if len(candidatos_columns) != len(candidatos_tag_list):\n",
    "    print(f'El numero de columnas del archivos candidatos.xlsx es de {len(candidatos_columns)}, este deberia tener {len(candidatos_tag_list)}. Por favor revise el archivo')\n"
   ]
  },
  {
   "cell_type": "code",
   "execution_count": 12,
   "metadata": {},
   "outputs": [
    {
     "name": "stdout",
     "output_type": "stream",
     "text": [
      "{<class 'int'>}\n",
      "{<class 'int'>}\n",
      "{<class 'int'>}\n",
      "{<class 'float'>}\n",
      "error en CODDEPARTAMENTO sus datos deberian ser <class 'int'>\n",
      "{<class 'float'>}\n",
      "error en CODDISTRITO sus datos deberian ser <class 'int'>\n",
      "{<class 'float'>}\n",
      "error en CODZONA sus datos deberian ser <class 'int'>\n",
      "{<class 'int'>}\n",
      "{<class 'int'>}\n",
      "{<class 'str'>}\n"
     ]
    }
   ],
   "source": [
    "for el in candidatos_tag_list:\n",
    "    if len(set([type(row) for row in df_candidatos[el].to_list()])) == 1:\n",
    "        print(set([type(row) for row in df_candidatos[el].to_list()]) )\n",
    "        if candidatos_types[el] in set([type(row) for row in df_candidatos[el].to_list()]):\n",
    "            pass\n",
    "        else:\n",
    "            print(f'error en {el} sus datos deberian ser {candidatos_types[el]}')\n",
    "    else:\n",
    "        print(f'error en {el}, hay mas de un tipo de datos en la columna')"
   ]
  },
  {
   "attachments": {},
   "cell_type": "markdown",
   "metadata": {},
   "source": [
    "\n",
    "candidaturas.xlsx\n",
    "\n",
    "codcandidatura - 2numeros\n",
    "descripcion - string mayusc\n",
    "nivel - string mayusc\n",
    "nro_ord - int 2 numeros\n",
    "tipo - int 1 numero\n",
    "descripcion_corta - string 3 letras mayusc\n"
   ]
  },
  {
   "cell_type": "code",
   "execution_count": 10,
   "metadata": {},
   "outputs": [
    {
     "data": {
      "text/plain": [
       "['codcandidatura',\n",
       " 'descripcion',\n",
       " 'nivel',\n",
       " 'nro_orden',\n",
       " 'tipo',\n",
       " 'descripcion_corta']"
      ]
     },
     "execution_count": 10,
     "metadata": {},
     "output_type": "execute_result"
    }
   ],
   "source": [
    "df_candidaturas = pandas.read_excel('/home/djorda/Escritorio/validadores/Validador/Datos_v7/candidaturas.xlsx', engine='openpyxl')\n",
    "\n",
    "\n",
    "candidaturas_tag_list=[['codcandidatura',\n",
    " 'descripcion',\n",
    " 'nivel',\n",
    " 'nro_orden',\n",
    " 'tipo',\n",
    " 'descripcion_corta']]\n",
    "\n",
    "candiaturas_types={\n",
    " 'codcandidatura': int,\n",
    " 'descripcion':str,\n",
    " 'nivel':str,\n",
    " 'nro_orden': int,\n",
    " 'tipo': int,\n",
    " 'descripcion_corta':str,\n",
    "}"
   ]
  },
  {
   "cell_type": "code",
   "execution_count": 15,
   "metadata": {},
   "outputs": [
    {
     "data": {
      "text/plain": [
       "<bound method IndexOpsMixin.tolist of Index(['codeleccio', 'deseleccio', 'cod_candid', 'descandida', 'coddeparta',\n",
       "       'desdeparta', 'coddistrit', 'desdistrit', 'codzona', 'deszona',\n",
       "       'codlocal', 'deslocal', 'mesa', 'codseguridad', 'ctx'],\n",
       "      dtype='object')>"
      ]
     },
     "execution_count": 15,
     "metadata": {},
     "output_type": "execute_result"
    }
   ],
   "source": [
    "df_listas = pandas.read_excel('/home/djorda/Escritorio/validadores/Validador/Datos_v7/mesas_candidaturas_seguridad_trep.xlsx', engine='openpyxl')\n",
    "\n",
    "df_listas.columns.to_list"
   ]
  },
  {
   "cell_type": "code",
   "execution_count": null,
   "metadata": {},
   "outputs": [],
   "source": []
  }
 ],
 "metadata": {
  "kernelspec": {
   "display_name": "Python 3",
   "language": "python",
   "name": "python3"
  },
  "language_info": {
   "codemirror_mode": {
    "name": "ipython",
    "version": 3
   },
   "file_extension": ".py",
   "mimetype": "text/x-python",
   "name": "python",
   "nbconvert_exporter": "python",
   "pygments_lexer": "ipython3",
   "version": "3.8.10"
  },
  "orig_nbformat": 4,
  "vscode": {
   "interpreter": {
    "hash": "916dbcbb3f70747c44a77c7bcd40155683ae19c65e1c03b4aa3499c5328201f1"
   }
  }
 },
 "nbformat": 4,
 "nbformat_minor": 2
}
