{
 "cells": [
  {
   "cell_type": "code",
   "execution_count": 1,
   "metadata": {},
   "outputs": [],
   "source": [
    "import pandas\n",
    "import csv"
   ]
  },
  {
   "attachments": {},
   "cell_type": "markdown",
   "metadata": {},
   "source": [
    "Aca vendrian los inputs.\n",
    "\n",
    "\n",
    "\n",
    "\n",
    "\n",
    "listas.xlsx\n",
    "\n",
    "COD_ELECCION - int 3 numeros\n",
    "CODLISTA - int 4numeros\n",
    "DESCRIPCION - STRING\n",
    "DESCRIPCION_CORTA - STRING\n",
    "NUMLISTA - STRING\n",
    "NRO_ORDEN - INT 4NUMEROS\n",
    "\n",
    "\n",
    "mesas.xlsx\n",
    "\n",
    "codeleccion - int 3 numeros\n",
    "deseleccion- string mayusc\n",
    "coddepartamento - int 2 numeros\n",
    "desdepartamento - string \n",
    "coddistrito - int \n",
    "desdistrto - string\n",
    "codzona - int\n",
    "deszona - string\n",
    "codlocal - int\n",
    "deslocal - string Mayusc\n",
    "mesa - int\n",
    "tipo - string mayusc\n",
    "id_credencial - int (8num?) \n",
    "\n",
    "mesas_candidaturas_seguridad_trep.xlsx\n",
    "\n",
    "codeleccio - int\n",
    "deseleccio - string mayusc\n",
    "cod_candid - int\n",
    "descandida - string\n",
    "coddeparta - int\n",
    "desdeparta - string\n",
    "coddistrit - int\n",
    "desdistrit -  string\n",
    "codzona - int\n",
    "deszona - string\n",
    "codlocal - int\n",
    "deslocal -string\n",
    "mesa - int\n",
    "codseguridad - int\n",
    "ctx - int\n",
    "\n",
    "\n",
    "\n",
    "\n",
    "\n",
    "\n",
    "\n",
    "\n",
    "\n"
   ]
  },
  {
   "attachments": {},
   "cell_type": "markdown",
   "metadata": {},
   "source": [
    "Mesas validaciones\n"
   ]
  },
  {
   "cell_type": "code",
   "execution_count": 2,
   "metadata": {},
   "outputs": [],
   "source": [
    "\n",
    "df_mesas = pandas.read_excel('/home/djorda/Escritorio/validadores/Validador/Datos_v7/mesas.xlsx', engine='openpyxl')\n",
    "mesas_tags_list=['codeleccion',\n",
    " 'deseleccion',\n",
    " 'coddepartamento',\n",
    " 'desdepartamento',\n",
    " 'coddistrito',\n",
    " 'desdistrito',\n",
    " 'codzona',\n",
    " 'deszona',\n",
    " 'codlocal',\n",
    " 'deslocal',\n",
    " 'mesa',\n",
    " 'tipo',\n",
    " 'id_credencial']\n",
    "\n",
    "\n",
    "mesas_type={'codeleccion': int,\n",
    " 'deseleccion': str,\n",
    " 'coddepartamento': int,\n",
    " 'desdepartamento': str,\n",
    " 'coddistrito': int,\n",
    " 'desdistrito':str,\n",
    " 'codzona':int,\n",
    " 'deszona': str,\n",
    " 'codlocal': int,\n",
    " 'deslocal': str,\n",
    " 'mesa': int,\n",
    " 'tipo': str,\n",
    " 'id_credencial' : int\n",
    "    \n",
    "}\n",
    "dcolums=df_mesas.columns.to_list()\n",
    "\n"
   ]
  },
  {
   "cell_type": "code",
   "execution_count": 3,
   "metadata": {},
   "outputs": [],
   "source": [
    "for el in mesas_colums:\n",
    "    if el not in mesas_tags_list:\n",
    "        print(f'el titulo \"{el}\"  de la columna no coincide con los titulos de la lista precisada')\n",
    "        print(f'La lista debe contener los siguientes titulos de columna {mesas_tags_list}')\n",
    "\n",
    "    "
   ]
  },
  {
   "attachments": {},
   "cell_type": "markdown",
   "metadata": {},
   "source": [
    "numero de columnas"
   ]
  },
  {
   "cell_type": "code",
   "execution_count": 4,
   "metadata": {},
   "outputs": [],
   "source": [
    "if len(mesas_colums) != len(mesas_tags_list):\n",
    "    print(f'El numero de columnas del archivos mesas.xlsx es de {len(mesas_colums)}, este deberia tener {len(mesas_tags_list)}. Por favor revise el archivo')\n"
   ]
  },
  {
   "attachments": {},
   "cell_type": "markdown",
   "metadata": {},
   "source": [
    "data types\n"
   ]
  },
  {
   "cell_type": "code",
   "execution_count": 5,
   "metadata": {},
   "outputs": [],
   "source": [
    "for el in mesas_tags_list:\n",
    "    if len(set([type(row) for row in df_mesas[el].to_list()])) == 1:\n",
    "        if mesas_type[el] in set([type(row) for row in df_mesas[el].to_list()]):\n",
    "            pass\n",
    "        else:\n",
    "            print(f'error en {el} sus datos deberian ser {mesas_type[el]}')\n",
    "    else:\n",
    "        print(f'error en {el}, hay mas de un tipo de datos en la columna')\n",
    "            "
   ]
  },
  {
   "attachments": {},
   "cell_type": "markdown",
   "metadata": {},
   "source": [
    "candidatos.xlsx\n"
   ]
  },
  {
   "cell_type": "markdown",
   "metadata": {},
   "source": []
  },
  {
   "attachments": {},
   "cell_type": "markdown",
   "metadata": {},
   "source": [
    "candidatos.xlsx\n",
    "\n",
    "IDCANDIDATO - 6numeros,\n",
    "CODCANDIDATURA - 2 numeros,\n",
    "CODELECCION - 3 numeros,\n",
    "CODDEPARTAMENTO - 2 numeros,\n",
    "CODDISTRITO - numeros y blank,\n",
    "CODZONA - numeros y blank,\n",
    "CODLISTA- 4 NUMEROS ,\n",
    "ORDEN - 2 NUMEROS,\n",
    "NOMBRE - STRING, capital,"
   ]
  },
  {
   "cell_type": "code",
   "execution_count": 56,
   "metadata": {},
   "outputs": [],
   "source": [
    "df = pandas.read_excel('/home/djorda/Escritorio/validadores/Validador/Datos_v7/candidatos.xlsx', engine='openpyxl')\n",
    "\n",
    "candidatos_tag_list=['IDCANDIDATO',\n",
    " 'CODCANDIDATURA',\n",
    " 'CODELECCION',\n",
    " 'CODDEPARTAMENTO',\n",
    " 'CODDISTRITO',\n",
    " 'CODZONA',\n",
    " 'CODLISTA',\n",
    " 'ORDEN',\n",
    " 'NOMBRE']\n",
    "\n",
    "candidatos_types={\n",
    "    'IDCANDIDATO': int,\n",
    " 'CODCANDIDATURA': int,\n",
    " 'CODELECCION': int,\n",
    " 'CODDEPARTAMENTO':int,\n",
    " 'CODDISTRITO': int,\n",
    " 'CODZONA': int,\n",
    " 'CODLISTA': int,\n",
    " 'ORDEN': int,\n",
    " 'NOMBRE': str,\n",
    "}\n",
    "\n"
   ]
  },
  {
   "cell_type": "code",
   "execution_count": 59,
   "metadata": {},
   "outputs": [
    {
     "ename": "IntCastingNaNError",
     "evalue": "Cannot convert non-finite values (NA or inf) to integer",
     "output_type": "error",
     "traceback": [
      "\u001b[0;31m---------------------------------------------------------------------------\u001b[0m",
      "\u001b[0;31mIntCastingNaNError\u001b[0m                        Traceback (most recent call last)",
      "Cell \u001b[0;32mIn[59], line 2\u001b[0m\n\u001b[1;32m      1\u001b[0m \u001b[39mif\u001b[39;00m \u001b[39mset\u001b[39m([ \u001b[39mtype\u001b[39m(row) \u001b[39mfor\u001b[39;00m row \u001b[39min\u001b[39;00m df[\u001b[39m'\u001b[39m\u001b[39mCODDEPARTAMENTO\u001b[39m\u001b[39m'\u001b[39m]]) \u001b[39m==\u001b[39m {\u001b[39mfloat\u001b[39m}:\n\u001b[0;32m----> 2\u001b[0m     df[\u001b[39m'\u001b[39;49m\u001b[39mCODDEPARTAMENTO\u001b[39;49m\u001b[39m'\u001b[39;49m]\u001b[39m.\u001b[39;49mastype(\u001b[39mint\u001b[39;49m)\n\u001b[1;32m      4\u001b[0m s\u001b[39m=\u001b[39m\u001b[39mset\u001b[39m([ \u001b[39mtype\u001b[39m(row) \u001b[39mfor\u001b[39;00m row \u001b[39min\u001b[39;00m df[\u001b[39m'\u001b[39m\u001b[39mCODDEPARTAMENTO\u001b[39m\u001b[39m'\u001b[39m]]) \n\u001b[1;32m      5\u001b[0m s\n",
      "File \u001b[0;32m~/.local/lib/python3.8/site-packages/pandas/core/generic.py:6240\u001b[0m, in \u001b[0;36mNDFrame.astype\u001b[0;34m(self, dtype, copy, errors)\u001b[0m\n\u001b[1;32m   6233\u001b[0m     results \u001b[39m=\u001b[39m [\n\u001b[1;32m   6234\u001b[0m         \u001b[39mself\u001b[39m\u001b[39m.\u001b[39miloc[:, i]\u001b[39m.\u001b[39mastype(dtype, copy\u001b[39m=\u001b[39mcopy)\n\u001b[1;32m   6235\u001b[0m         \u001b[39mfor\u001b[39;00m i \u001b[39min\u001b[39;00m \u001b[39mrange\u001b[39m(\u001b[39mlen\u001b[39m(\u001b[39mself\u001b[39m\u001b[39m.\u001b[39mcolumns))\n\u001b[1;32m   6236\u001b[0m     ]\n\u001b[1;32m   6238\u001b[0m \u001b[39melse\u001b[39;00m:\n\u001b[1;32m   6239\u001b[0m     \u001b[39m# else, only a single dtype is given\u001b[39;00m\n\u001b[0;32m-> 6240\u001b[0m     new_data \u001b[39m=\u001b[39m \u001b[39mself\u001b[39;49m\u001b[39m.\u001b[39;49m_mgr\u001b[39m.\u001b[39;49mastype(dtype\u001b[39m=\u001b[39;49mdtype, copy\u001b[39m=\u001b[39;49mcopy, errors\u001b[39m=\u001b[39;49merrors)\n\u001b[1;32m   6241\u001b[0m     \u001b[39mreturn\u001b[39;00m \u001b[39mself\u001b[39m\u001b[39m.\u001b[39m_constructor(new_data)\u001b[39m.\u001b[39m__finalize__(\u001b[39mself\u001b[39m, method\u001b[39m=\u001b[39m\u001b[39m\"\u001b[39m\u001b[39mastype\u001b[39m\u001b[39m\"\u001b[39m)\n\u001b[1;32m   6243\u001b[0m \u001b[39m# GH 33113: handle empty frame or series\u001b[39;00m\n",
      "File \u001b[0;32m~/.local/lib/python3.8/site-packages/pandas/core/internals/managers.py:448\u001b[0m, in \u001b[0;36mBaseBlockManager.astype\u001b[0;34m(self, dtype, copy, errors)\u001b[0m\n\u001b[1;32m    447\u001b[0m \u001b[39mdef\u001b[39;00m \u001b[39mastype\u001b[39m(\u001b[39mself\u001b[39m: T, dtype, copy: \u001b[39mbool\u001b[39m \u001b[39m=\u001b[39m \u001b[39mFalse\u001b[39;00m, errors: \u001b[39mstr\u001b[39m \u001b[39m=\u001b[39m \u001b[39m\"\u001b[39m\u001b[39mraise\u001b[39m\u001b[39m\"\u001b[39m) \u001b[39m-\u001b[39m\u001b[39m>\u001b[39m T:\n\u001b[0;32m--> 448\u001b[0m     \u001b[39mreturn\u001b[39;00m \u001b[39mself\u001b[39;49m\u001b[39m.\u001b[39;49mapply(\u001b[39m\"\u001b[39;49m\u001b[39mastype\u001b[39;49m\u001b[39m\"\u001b[39;49m, dtype\u001b[39m=\u001b[39;49mdtype, copy\u001b[39m=\u001b[39;49mcopy, errors\u001b[39m=\u001b[39;49merrors)\n",
      "File \u001b[0;32m~/.local/lib/python3.8/site-packages/pandas/core/internals/managers.py:352\u001b[0m, in \u001b[0;36mBaseBlockManager.apply\u001b[0;34m(self, f, align_keys, ignore_failures, **kwargs)\u001b[0m\n\u001b[1;32m    350\u001b[0m         applied \u001b[39m=\u001b[39m b\u001b[39m.\u001b[39mapply(f, \u001b[39m*\u001b[39m\u001b[39m*\u001b[39mkwargs)\n\u001b[1;32m    351\u001b[0m     \u001b[39melse\u001b[39;00m:\n\u001b[0;32m--> 352\u001b[0m         applied \u001b[39m=\u001b[39m \u001b[39mgetattr\u001b[39;49m(b, f)(\u001b[39m*\u001b[39;49m\u001b[39m*\u001b[39;49mkwargs)\n\u001b[1;32m    353\u001b[0m \u001b[39mexcept\u001b[39;00m (\u001b[39mTypeError\u001b[39;00m, \u001b[39mNotImplementedError\u001b[39;00m):\n\u001b[1;32m    354\u001b[0m     \u001b[39mif\u001b[39;00m \u001b[39mnot\u001b[39;00m ignore_failures:\n",
      "File \u001b[0;32m~/.local/lib/python3.8/site-packages/pandas/core/internals/blocks.py:526\u001b[0m, in \u001b[0;36mBlock.astype\u001b[0;34m(self, dtype, copy, errors)\u001b[0m\n\u001b[1;32m    508\u001b[0m \u001b[39m\u001b[39m\u001b[39m\"\"\"\u001b[39;00m\n\u001b[1;32m    509\u001b[0m \u001b[39mCoerce to the new dtype.\u001b[39;00m\n\u001b[1;32m    510\u001b[0m \n\u001b[0;32m   (...)\u001b[0m\n\u001b[1;32m    522\u001b[0m \u001b[39mBlock\u001b[39;00m\n\u001b[1;32m    523\u001b[0m \u001b[39m\"\"\"\u001b[39;00m\n\u001b[1;32m    524\u001b[0m values \u001b[39m=\u001b[39m \u001b[39mself\u001b[39m\u001b[39m.\u001b[39mvalues\n\u001b[0;32m--> 526\u001b[0m new_values \u001b[39m=\u001b[39m astype_array_safe(values, dtype, copy\u001b[39m=\u001b[39;49mcopy, errors\u001b[39m=\u001b[39;49merrors)\n\u001b[1;32m    528\u001b[0m new_values \u001b[39m=\u001b[39m maybe_coerce_values(new_values)\n\u001b[1;32m    529\u001b[0m newb \u001b[39m=\u001b[39m \u001b[39mself\u001b[39m\u001b[39m.\u001b[39mmake_block(new_values)\n",
      "File \u001b[0;32m~/.local/lib/python3.8/site-packages/pandas/core/dtypes/astype.py:299\u001b[0m, in \u001b[0;36mastype_array_safe\u001b[0;34m(values, dtype, copy, errors)\u001b[0m\n\u001b[1;32m    296\u001b[0m     \u001b[39mreturn\u001b[39;00m values\u001b[39m.\u001b[39mcopy()\n\u001b[1;32m    298\u001b[0m \u001b[39mtry\u001b[39;00m:\n\u001b[0;32m--> 299\u001b[0m     new_values \u001b[39m=\u001b[39m astype_array(values, dtype, copy\u001b[39m=\u001b[39;49mcopy)\n\u001b[1;32m    300\u001b[0m \u001b[39mexcept\u001b[39;00m (\u001b[39mValueError\u001b[39;00m, \u001b[39mTypeError\u001b[39;00m):\n\u001b[1;32m    301\u001b[0m     \u001b[39m# e.g. astype_nansafe can fail on object-dtype of strings\u001b[39;00m\n\u001b[1;32m    302\u001b[0m     \u001b[39m#  trying to convert to float\u001b[39;00m\n\u001b[1;32m    303\u001b[0m     \u001b[39mif\u001b[39;00m errors \u001b[39m==\u001b[39m \u001b[39m\"\u001b[39m\u001b[39mignore\u001b[39m\u001b[39m\"\u001b[39m:\n",
      "File \u001b[0;32m~/.local/lib/python3.8/site-packages/pandas/core/dtypes/astype.py:230\u001b[0m, in \u001b[0;36mastype_array\u001b[0;34m(values, dtype, copy)\u001b[0m\n\u001b[1;32m    227\u001b[0m     values \u001b[39m=\u001b[39m values\u001b[39m.\u001b[39mastype(dtype, copy\u001b[39m=\u001b[39mcopy)\n\u001b[1;32m    229\u001b[0m \u001b[39melse\u001b[39;00m:\n\u001b[0;32m--> 230\u001b[0m     values \u001b[39m=\u001b[39m astype_nansafe(values, dtype, copy\u001b[39m=\u001b[39;49mcopy)\n\u001b[1;32m    232\u001b[0m \u001b[39m# in pandas we don't store numpy str dtypes, so convert to object\u001b[39;00m\n\u001b[1;32m    233\u001b[0m \u001b[39mif\u001b[39;00m \u001b[39misinstance\u001b[39m(dtype, np\u001b[39m.\u001b[39mdtype) \u001b[39mand\u001b[39;00m \u001b[39missubclass\u001b[39m(values\u001b[39m.\u001b[39mdtype\u001b[39m.\u001b[39mtype, \u001b[39mstr\u001b[39m):\n",
      "File \u001b[0;32m~/.local/lib/python3.8/site-packages/pandas/core/dtypes/astype.py:140\u001b[0m, in \u001b[0;36mastype_nansafe\u001b[0;34m(arr, dtype, copy, skipna)\u001b[0m\n\u001b[1;32m    137\u001b[0m     \u001b[39mraise\u001b[39;00m \u001b[39mTypeError\u001b[39;00m(\u001b[39mf\u001b[39m\u001b[39m\"\u001b[39m\u001b[39mcannot astype a timedelta from [\u001b[39m\u001b[39m{\u001b[39;00marr\u001b[39m.\u001b[39mdtype\u001b[39m}\u001b[39;00m\u001b[39m] to [\u001b[39m\u001b[39m{\u001b[39;00mdtype\u001b[39m}\u001b[39;00m\u001b[39m]\u001b[39m\u001b[39m\"\u001b[39m)\n\u001b[1;32m    139\u001b[0m \u001b[39melif\u001b[39;00m np\u001b[39m.\u001b[39missubdtype(arr\u001b[39m.\u001b[39mdtype, np\u001b[39m.\u001b[39mfloating) \u001b[39mand\u001b[39;00m is_integer_dtype(dtype):\n\u001b[0;32m--> 140\u001b[0m     \u001b[39mreturn\u001b[39;00m _astype_float_to_int_nansafe(arr, dtype, copy)\n\u001b[1;32m    142\u001b[0m \u001b[39melif\u001b[39;00m is_object_dtype(arr\u001b[39m.\u001b[39mdtype):\n\u001b[1;32m    143\u001b[0m \n\u001b[1;32m    144\u001b[0m     \u001b[39m# if we have a datetime/timedelta array of objects\u001b[39;00m\n\u001b[1;32m    145\u001b[0m     \u001b[39m# then coerce to a proper dtype and recall astype_nansafe\u001b[39;00m\n\u001b[1;32m    147\u001b[0m     \u001b[39mif\u001b[39;00m is_datetime64_dtype(dtype):\n",
      "File \u001b[0;32m~/.local/lib/python3.8/site-packages/pandas/core/dtypes/astype.py:182\u001b[0m, in \u001b[0;36m_astype_float_to_int_nansafe\u001b[0;34m(values, dtype, copy)\u001b[0m\n\u001b[1;32m    178\u001b[0m \u001b[39m\u001b[39m\u001b[39m\"\"\"\u001b[39;00m\n\u001b[1;32m    179\u001b[0m \u001b[39mastype with a check preventing converting NaN to an meaningless integer value.\u001b[39;00m\n\u001b[1;32m    180\u001b[0m \u001b[39m\"\"\"\u001b[39;00m\n\u001b[1;32m    181\u001b[0m \u001b[39mif\u001b[39;00m \u001b[39mnot\u001b[39;00m np\u001b[39m.\u001b[39misfinite(values)\u001b[39m.\u001b[39mall():\n\u001b[0;32m--> 182\u001b[0m     \u001b[39mraise\u001b[39;00m IntCastingNaNError(\n\u001b[1;32m    183\u001b[0m         \u001b[39m\"\u001b[39m\u001b[39mCannot convert non-finite values (NA or inf) to integer\u001b[39m\u001b[39m\"\u001b[39m\n\u001b[1;32m    184\u001b[0m     )\n\u001b[1;32m    185\u001b[0m \u001b[39mif\u001b[39;00m dtype\u001b[39m.\u001b[39mkind \u001b[39m==\u001b[39m \u001b[39m\"\u001b[39m\u001b[39mu\u001b[39m\u001b[39m\"\u001b[39m:\n\u001b[1;32m    186\u001b[0m     \u001b[39m# GH#45151\u001b[39;00m\n\u001b[1;32m    187\u001b[0m     \u001b[39mif\u001b[39;00m \u001b[39mnot\u001b[39;00m (values \u001b[39m>\u001b[39m\u001b[39m=\u001b[39m \u001b[39m0\u001b[39m)\u001b[39m.\u001b[39mall():\n",
      "\u001b[0;31mIntCastingNaNError\u001b[0m: Cannot convert non-finite values (NA or inf) to integer"
     ]
    }
   ],
   "source": [
    "\n",
    "if set([ type(row) for row in df['CODDEPARTAMENTO']]) == {float}:\n",
    "    df['CODDEPARTAMENTO'].astype(int)\n",
    "    \n",
    "s=set([ type(row) for row in df['CODDEPARTAMENTO']]) \n",
    "s\n"
   ]
  },
  {
   "cell_type": "code",
   "execution_count": 7,
   "metadata": {},
   "outputs": [],
   "source": [
    "candidatos_columns=df_candidatos.columns\n",
    "for el in candidatos_columns:\n",
    "    if el not in candidatos_tag_list:\n",
    "        print(f'el titulo \"{el}\"  de la columna no coincide con los titulos de la lista precisada')\n",
    "        print(f'La lista debe contener los siguientes titulos de columna {candidatos_tag_list}')"
   ]
  },
  {
   "cell_type": "code",
   "execution_count": 8,
   "metadata": {},
   "outputs": [],
   "source": [
    "if len(candidatos_columns) != len(candidatos_tag_list):\n",
    "    print(f'El numero de columnas del archivos candidatos.xlsx es de {len(candidatos_columns)}, este deberia tener {len(candidatos_tag_list)}. Por favor revise el archivo')\n"
   ]
  },
  {
   "cell_type": "code",
   "execution_count": 12,
   "metadata": {},
   "outputs": [
    {
     "name": "stdout",
     "output_type": "stream",
     "text": [
      "{<class 'int'>}\n",
      "{<class 'int'>}\n",
      "{<class 'int'>}\n",
      "{<class 'float'>}\n",
      "error en CODDEPARTAMENTO sus datos deberian ser <class 'int'>\n",
      "{<class 'float'>}\n",
      "error en CODDISTRITO sus datos deberian ser <class 'int'>\n",
      "{<class 'float'>}\n",
      "error en CODZONA sus datos deberian ser <class 'int'>\n",
      "{<class 'int'>}\n",
      "{<class 'int'>}\n",
      "{<class 'str'>}\n"
     ]
    }
   ],
   "source": [
    "for el in candidatos_tag_list:\n",
    "    if len(set([type(row) for row in df_candidatos[el].to_list()])) == 1:\n",
    "        print(set([type(row) for row in df_candidatos[el].to_list()]) )\n",
    "        if candidatos_types[el] in set([type(row) for row in df_candidatos[el].to_list()]):\n",
    "            pass\n",
    "        else:\n",
    "            print(f'error en {el} sus datos deberian ser {candidatos_types[el]}')\n",
    "    else:\n",
    "        print(f'error en {el}, hay mas de un tipo de datos en la columna')"
   ]
  },
  {
   "attachments": {},
   "cell_type": "markdown",
   "metadata": {},
   "source": [
    "\n",
    "candidaturas.xlsx\n",
    "\n",
    "codcandidatura - 2numeros\n",
    "descripcion - string mayusc\n",
    "nivel - string mayusc\n",
    "nro_ord - int 2 numeros\n",
    "tipo - int 1 numero\n",
    "descripcion_corta - string 3 letras mayusc\n"
   ]
  },
  {
   "cell_type": "code",
   "execution_count": 10,
   "metadata": {},
   "outputs": [
    {
     "data": {
      "text/plain": [
       "['codcandidatura',\n",
       " 'descripcion',\n",
       " 'nivel',\n",
       " 'nro_orden',\n",
       " 'tipo',\n",
       " 'descripcion_corta']"
      ]
     },
     "execution_count": 10,
     "metadata": {},
     "output_type": "execute_result"
    }
   ],
   "source": [
    "df_candidaturas = pandas.read_excel('/home/djorda/Escritorio/validadores/Validador/Datos_v7/candidaturas.xlsx', engine='openpyxl')\n",
    "\n",
    "\n",
    "candidaturas_tag_list=[['codcandidatura',\n",
    " 'descripcion',\n",
    " 'nivel',\n",
    " 'nro_orden',\n",
    " 'tipo',\n",
    " 'descripcion_corta']]\n",
    "\n",
    "candiaturas_types={\n",
    " 'codcandidatura': int,\n",
    " 'descripcion':str,\n",
    " 'nivel':str,\n",
    " 'nro_orden': int,\n",
    " 'tipo': int,\n",
    " 'descripcion_corta':str,\n",
    "}"
   ]
  },
  {
   "cell_type": "code",
   "execution_count": 4,
   "metadata": {},
   "outputs": [
    {
     "data": {
      "text/plain": [
       "<bound method IndexOpsMixin.tolist of Index(['codeleccion', 'deseleccio', 'codcandidatura', 'descandida',\n",
       "       'coddepartamento', 'desdeparta', 'coddistrito', 'desdistrit', 'codzona',\n",
       "       'deszona', 'codlocal', 'deslocal', 'mesa', 'codseguridad', 'ctx'],\n",
       "      dtype='object')>"
      ]
     },
     "execution_count": 4,
     "metadata": {},
     "output_type": "execute_result"
    }
   ],
   "source": [
    "df_listas = pandas.read_csv('/home/djorda/Escritorio/validadores/Validador/Datos_v7/mesas_certificados.csv')\n",
    "\n",
    "df_listas.columns.to_list"
   ]
  },
  {
   "cell_type": "code",
   "execution_count": null,
   "metadata": {},
   "outputs": [],
   "source": []
  }
 ],
 "metadata": {
  "kernelspec": {
   "display_name": "Python 3",
   "language": "python",
   "name": "python3"
  },
  "language_info": {
   "codemirror_mode": {
    "name": "ipython",
    "version": 3
   },
   "file_extension": ".py",
   "mimetype": "text/x-python",
   "name": "python",
   "nbconvert_exporter": "python",
   "pygments_lexer": "ipython3",
   "version": "3.8.10"
  },
  "orig_nbformat": 4,
  "vscode": {
   "interpreter": {
    "hash": "916dbcbb3f70747c44a77c7bcd40155683ae19c65e1c03b4aa3499c5328201f1"
   }
  }
 },
 "nbformat": 4,
 "nbformat_minor": 2
}
